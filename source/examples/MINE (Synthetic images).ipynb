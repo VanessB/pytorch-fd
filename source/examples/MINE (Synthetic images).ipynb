{
 "cells": [
  {
   "cell_type": "markdown",
   "id": "649ec53f-7a98-4a46-a0c9-e1922cdddeb5",
   "metadata": {},
   "source": [
    "# PyTorch mutual information neural estimation image-based tests\n",
    "\n",
    "Image-based high-dimensional tests"
   ]
  },
  {
   "cell_type": "code",
   "execution_count": null,
   "id": "3d0f374d-198f-42e7-b2c2-a0cb1b35913f",
   "metadata": {},
   "outputs": [],
   "source": [
    "import sys\n",
    "sys.path.append(\"../python\")"
   ]
  },
  {
   "cell_type": "code",
   "execution_count": null,
   "id": "87fd27da-f5c1-4ac1-999a-6fae2e0b3afe",
   "metadata": {},
   "outputs": [],
   "source": [
    "import numpy as np"
   ]
  },
  {
   "cell_type": "code",
   "execution_count": null,
   "id": "3e487ff1-fa67-4bec-a4d4-88a6ce973b14",
   "metadata": {},
   "outputs": [],
   "source": [
    "import torch\n",
    "import torchkld\n",
    "import mutinfo"
   ]
  },
  {
   "cell_type": "code",
   "execution_count": null,
   "id": "b4c265f9-3930-41e7-8d5c-6f1ec2abee26",
   "metadata": {},
   "outputs": [],
   "source": [
    "device = \"cuda\" if torch.cuda.is_available() else \"cpu\"\n",
    "#device = \"cpu\"\n",
    "print(\"Device: \" + device)\n",
    "print(f\"Devices count: {torch.cuda.device_count()}\")"
   ]
  },
  {
   "cell_type": "code",
   "execution_count": null,
   "id": "43237284-a85b-4f61-bea4-5c38e5c3ba34",
   "metadata": {},
   "outputs": [],
   "source": [
    "from tqdm import tqdm"
   ]
  },
  {
   "cell_type": "code",
   "execution_count": null,
   "id": "b3e4e461-ec35-45d6-8996-600d6f6389ef",
   "metadata": {},
   "outputs": [],
   "source": [
    "from mutinfo.distributions.base import *"
   ]
  },
  {
   "cell_type": "code",
   "execution_count": null,
   "id": "146d855a-4c33-4c62-9625-6523f9441af1",
   "metadata": {},
   "outputs": [],
   "source": [
    "from misc.modules import *\n",
    "from misc.plots import *\n",
    "from misc.utils import *"
   ]
  },
  {
   "cell_type": "code",
   "execution_count": null,
   "id": "6b01c596-00da-4f91-86ff-6154eca9b38d",
   "metadata": {},
   "outputs": [],
   "source": [
    "config = {}"
   ]
  },
  {
   "cell_type": "markdown",
   "id": "b8c93f18-ea41-4b3a-b693-a7082a31d418",
   "metadata": {},
   "source": [
    "## Dataset"
   ]
  },
  {
   "cell_type": "markdown",
   "id": "31133e7a-1133-4b38-b7b6-f6e5cff56491",
   "metadata": {},
   "source": [
    "Experimental setup"
   ]
  },
  {
   "cell_type": "code",
   "execution_count": null,
   "id": "7675a0ff-d992-4a21-9915-044e302f1626",
   "metadata": {},
   "outputs": [],
   "source": [
    "config[\"mutual_information\"] = 10.0\n",
    "\n",
    "config[\"dataset_type\"] = \"gaussians\"\n",
    "assert config[\"dataset_type\"] in [\"rectangles\", \"gaussians\"]\n",
    "\n",
    "config[\"min_delta\"] = 0.2 # Minimum (normalized) width/height for rectangles to avoid singularity."
   ]
  },
  {
   "cell_type": "code",
   "execution_count": null,
   "id": "ad1df657-d06b-4eb1-89c5-670c68cdf18a",
   "metadata": {},
   "outputs": [],
   "source": [
    "config[\"image_width\"]  = 16\n",
    "config[\"image_height\"] = 16"
   ]
  },
  {
   "cell_type": "code",
   "execution_count": null,
   "id": "8b0be011-575c-4956-81e7-1d8b7853f053",
   "metadata": {},
   "outputs": [],
   "source": [
    "from mutinfo.distributions.tools import mapped_multi_rv_frozen\n",
    "from mutinfo.distributions.images.geometric import uniform_to_rectangle, draw_rectangle\n",
    "from mutinfo.distributions.images.field import draw_field, symmetric_gaussian_field\n",
    "\n",
    "if config[\"dataset_type\"] == \"rectangles\":\n",
    "    config[\"X_latent_dimension\"] = 4\n",
    "    config[\"Y_latent_dimension\"] = 4\n",
    "\n",
    "    def generation_mapping(x, y):\n",
    "        x = draw_rectangle(uniform_to_rectangle(ndtr(x), config[\"min_delta\"], config[\"min_delta\"]), config[\"image_width\"], config[\"image_height\"])\n",
    "        y = draw_rectangle(uniform_to_rectangle(ndtr(y), config[\"min_delta\"], config[\"min_delta\"]), config[\"image_width\"], config[\"image_height\"])\n",
    "        \n",
    "        return x, y\n",
    "\n",
    "    random_variable = mapped_multi_rv_frozen(\n",
    "        CorrelatedNormal(config[\"mutual_information\"], config[\"X_latent_dimension\"], config[\"Y_latent_dimension\"], randomize_interactions=False),\n",
    "        generation_mapping\n",
    "    )\n",
    "    \n",
    "elif config[\"dataset_type\"] == \"gaussians\":\n",
    "    config[\"X_latent_dimension\"] = 2\n",
    "    config[\"Y_latent_dimension\"] = 2\n",
    "\n",
    "    def generation_mapping(x, y):\n",
    "        x = draw_field(ndtr(x), symmetric_gaussian_field, (config[\"image_width\"], config[\"image_height\"]))\n",
    "        y = draw_field(ndtr(y), symmetric_gaussian_field, (config[\"image_width\"], config[\"image_height\"]))\n",
    "        \n",
    "        return x, y\n",
    "\n",
    "    random_variable = mapped_multi_rv_frozen(\n",
    "        CorrelatedNormal(config[\"mutual_information\"], config[\"X_latent_dimension\"], config[\"Y_latent_dimension\"], randomize_interactions=False),\n",
    "        generation_mapping\n",
    "    )"
   ]
  },
  {
   "cell_type": "code",
   "execution_count": null,
   "id": "be5ecaa2-5e5c-406e-835d-d29c5e043265",
   "metadata": {},
   "outputs": [],
   "source": [
    "config[\"n_samples\"] = 10*1024\n",
    "x, y = random_variable.rvs(config[\"n_samples\"])"
   ]
  },
  {
   "cell_type": "code",
   "execution_count": null,
   "id": "fd729177-a323-4b00-b8b6-98f054381a8a",
   "metadata": {},
   "outputs": [],
   "source": [
    "plt.imshow(random_variable.rvs(10)[0][0])"
   ]
  },
  {
   "cell_type": "markdown",
   "id": "85916a53-705a-4caf-a5c5-d27d2b7ea6b7",
   "metadata": {},
   "source": [
    "## Estimating MI"
   ]
  },
  {
   "cell_type": "markdown",
   "id": "231dadce-482b-40ee-9418-b9fd451c6e7f",
   "metadata": {},
   "source": [
    "Dataset and dataloader"
   ]
  },
  {
   "cell_type": "code",
   "execution_count": null,
   "id": "0e420d45-415a-497d-8b26-38479d73c32f",
   "metadata": {},
   "outputs": [],
   "source": [
    "train_dataset = torch.utils.data.TensorDataset(\n",
    "    torch.tensor(x, dtype=torch.float32)[:,None,...],\n",
    "    torch.tensor(y, dtype=torch.float32)[:,None,...],\n",
    ")\n",
    "\n",
    "x, y = random_variable.rvs(config[\"n_samples\"])\n",
    "test_dataset = torch.utils.data.TensorDataset(\n",
    "    torch.tensor(x, dtype=torch.float32)[:,None,...],\n",
    "    torch.tensor(y, dtype=torch.float32)[:,None,...],\n",
    ")"
   ]
  },
  {
   "cell_type": "code",
   "execution_count": null,
   "id": "9aa7a6e5-6685-4058-8d07-1502e0baf7a6",
   "metadata": {},
   "outputs": [],
   "source": [
    "config[\"batch_size\"] = 128\n",
    "train_dataloader = torch.utils.data.DataLoader(train_dataset, batch_size=config[\"batch_size\"], shuffle=True)\n",
    "test_dataloader  = torch.utils.data.DataLoader(test_dataset,  batch_size=config[\"batch_size\"], shuffle=False)"
   ]
  },
  {
   "cell_type": "markdown",
   "id": "9e3beaf0-da85-463b-b68b-f02838594e73",
   "metadata": {},
   "source": [
    "Model"
   ]
  },
  {
   "cell_type": "code",
   "execution_count": null,
   "id": "4b319980-e6c5-4c4c-a4cb-48643d2636b8",
   "metadata": {},
   "outputs": [],
   "source": [
    "n_filters = 8\n",
    "hidden_dimension = 128\n",
    "\n",
    "model = BasicConv2dT(config[\"image_width\"], config[\"image_width\"], n_filters=n_filters, hidden_dimension=hidden_dimension).to(device)\n",
    "total_parameters = sum(parameter.numel() for parameter in model.parameters())\n",
    "print(f\"Total parameters: {total_parameters}\")"
   ]
  },
  {
   "cell_type": "code",
   "execution_count": null,
   "id": "97dc8103-e299-4739-996e-92c4e61373b8",
   "metadata": {},
   "outputs": [],
   "source": [
    "config[\"n_parameters\"] = total_parameters"
   ]
  },
  {
   "cell_type": "markdown",
   "id": "714566a8-569b-48da-b159-717082cf4683",
   "metadata": {},
   "source": [
    "Loss"
   ]
  },
  {
   "cell_type": "code",
   "execution_count": null,
   "id": "772fa747-01e2-427a-af60-38fd309daeb9",
   "metadata": {},
   "outputs": [],
   "source": [
    "# Loss.\n",
    "config[\"biased\"] = False\n",
    "config[\"ema_multiplier\"] = 1.0e-2\n",
    "config[\"marginalize\"] = \"product\" # \"permute\", \"product\"\n",
    "\n",
    "losses = {\n",
    "    \"DonskerVaradhan\": torchkld.loss.DonskerVaradhanLoss(biased=config[\"biased\"], ema_multiplier=config[\"ema_multiplier\"]),\n",
    "    \"NWJ\": torchkld.loss.NWJLoss(),\n",
    "    \"Nishiyama\": torchkld.loss.NishiyamaLoss(),\n",
    "    \"InfoNCE\": torchkld.loss.InfoNCELoss(),\n",
    "}\n",
    "\n",
    "config[\"loss_name\"] = \"InfoNCE\"\n",
    "loss = losses[config[\"loss_name\"]]"
   ]
  },
  {
   "cell_type": "markdown",
   "id": "2273ae98-21d6-4d96-ac6d-eb631d556fa3",
   "metadata": {},
   "source": [
    "Optimizer"
   ]
  },
  {
   "cell_type": "code",
   "execution_count": null,
   "id": "744a880e-03be-4e3c-8540-4b034c725a73",
   "metadata": {},
   "outputs": [],
   "source": [
    "config[\"learning_rate\"] = 1.0e-3\n",
    "optimizer = torch.optim.Adam(model.parameters(), lr=config[\"learning_rate\"])"
   ]
  },
  {
   "cell_type": "markdown",
   "id": "8936ff9f-463f-4a55-8000-6f2cc5cc954b",
   "metadata": {},
   "source": [
    "Training"
   ]
  },
  {
   "cell_type": "code",
   "execution_count": null,
   "id": "4e59ce4e-2751-49ad-a784-5d81e1a1135b",
   "metadata": {},
   "outputs": [],
   "source": [
    "import matplotlib\n",
    "from matplotlib import pyplot as plt"
   ]
  },
  {
   "cell_type": "code",
   "execution_count": null,
   "id": "56ee6e26-beb3-4148-adc6-cbaf58d5637b",
   "metadata": {},
   "outputs": [],
   "source": [
    "# Total number of epochs.\n",
    "config[\"n_epochs\"] = 100\n",
    "\n",
    "# Number of epochs used to average the estimate.\n",
    "config[\"average_epochs\"] = 20"
   ]
  },
  {
   "cell_type": "code",
   "execution_count": null,
   "id": "cd99a2a2-389d-499d-800b-eef120ce0202",
   "metadata": {
    "tags": []
   },
   "outputs": [],
   "source": [
    "from collections import defaultdict\n",
    "from IPython.display import clear_output\n",
    "from tqdm import trange\n",
    "\n",
    "history = defaultdict(list)\n",
    "for epoch in trange(1, config[\"n_epochs\"] + 1, mininterval=1):    \n",
    "    # Training.\n",
    "    for index, batch in enumerate(train_dataloader):\n",
    "        x, y = batch\n",
    "        batch_size = x.shape[0]\n",
    "\n",
    "        x, y = x.to(device), y.to(device)\n",
    "        \n",
    "        optimizer.zero_grad()\n",
    "        \n",
    "        T_joined   = model(x.to(device), y.to(device))\n",
    "        T_marginal = model(x.to(device), y.to(device), marginalize=config[\"marginalize\"])\n",
    "        _loss = loss(T_joined, T_marginal)\n",
    "        _loss.backward()\n",
    "        \n",
    "        optimizer.step()\n",
    "\n",
    "    history[\"train_mutual_information\"].append(\n",
    "        model.get_mutual_information(\n",
    "            train_dataloader,\n",
    "            loss,\n",
    "            device,\n",
    "            marginalize=config[\"marginalize\"],\n",
    "        )\n",
    "    )\n",
    "    history[\"test_mutual_information\"].append(\n",
    "        model.get_mutual_information(\n",
    "            test_dataloader,\n",
    "            loss,\n",
    "            device,\n",
    "            marginalize=config[\"marginalize\"],\n",
    "        )\n",
    "    )\n",
    "\n",
    "    if epoch % 5 == 0:        \n",
    "        clear_output(wait=True)\n",
    "        plot_estimated_MI_trainig(config[\"mutual_information\"], np.arange(1, epoch+1), history[\"train_mutual_information\"])\n",
    "        plot_estimated_MI_trainig(config[\"mutual_information\"], np.arange(1, epoch+1), history[\"test_mutual_information\"])\n",
    "        print(f\"Current estimate: {history['test_mutual_information'][-1]:.3f}\")\n",
    "        print(f\"Running median: {np.median(history['test_mutual_information'][-config['average_epochs']:]):.3f}\")"
   ]
  },
  {
   "cell_type": "markdown",
   "id": "ef87ae14-ff4d-4d98-9442-6af9ddff09be",
   "metadata": {},
   "source": [
    "### Saving the results"
   ]
  },
  {
   "cell_type": "code",
   "execution_count": null,
   "id": "160edb93-705d-4f1e-a605-c476131cd56a",
   "metadata": {},
   "outputs": [],
   "source": [
    "config"
   ]
  },
  {
   "cell_type": "code",
   "execution_count": null,
   "id": "49f14e99-1817-44b3-986f-93a27085136d",
   "metadata": {},
   "outputs": [],
   "source": [
    "from datetime import datetime\n",
    "\n",
    "experiment_name = f\"{config['dataset_type']}_{config['image_width']}x{config['image_height']}_{config['mutual_information']:.1f}_{config['n_samples']}__{datetime.now().strftime('%d-%b-%Y_%H:%M:%S')}\"\n",
    "print(experiment_name)"
   ]
  },
  {
   "cell_type": "code",
   "execution_count": null,
   "id": "7e13377c-88bb-4cf6-9af2-d370502fceb4",
   "metadata": {},
   "outputs": [],
   "source": [
    "import os\n",
    "from pathlib import Path\n",
    "\n",
    "data_path = Path(os.path.abspath(os.path.join(os.path.abspath(os.getcwd()), \"../../data/synthetic\")))\n",
    "experiment_path = data_path / f\"{config['dataset_type']}_{config['image_width']}x{config['image_height']}\" / config['loss_name'] / experiment_name"
   ]
  },
  {
   "cell_type": "code",
   "execution_count": null,
   "id": "04aaac64-b00b-42ad-a1e9-3dcb999a48e6",
   "metadata": {},
   "outputs": [],
   "source": [
    "save_results(history, config, experiment_path, average_epochs=config['average_epochs'])"
   ]
  },
  {
   "cell_type": "code",
   "execution_count": null,
   "id": "bd1046f9-a84a-48a5-a0f5-64d4ccad06d9",
   "metadata": {},
   "outputs": [],
   "source": []
  }
 ],
 "metadata": {
  "kernelspec": {
   "display_name": "Python 3 (ipykernel)",
   "language": "python",
   "name": "python3"
  },
  "language_info": {
   "codemirror_mode": {
    "name": "ipython",
    "version": 3
   },
   "file_extension": ".py",
   "mimetype": "text/x-python",
   "name": "python",
   "nbconvert_exporter": "python",
   "pygments_lexer": "ipython3",
   "version": "3.10.13"
  }
 },
 "nbformat": 4,
 "nbformat_minor": 5
}
