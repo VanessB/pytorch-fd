{
 "cells": [
  {
   "cell_type": "markdown",
   "id": "649ec53f-7a98-4a46-a0c9-e1922cdddeb5",
   "metadata": {},
   "source": [
    "# PyTorch mutual information neural estimation tests\n",
    "\n",
    "Trivial tests with multivariate Gaussian and uniform distribution"
   ]
  },
  {
   "cell_type": "code",
   "execution_count": null,
   "id": "3d0f374d-198f-42e7-b2c2-a0cb1b35913f",
   "metadata": {},
   "outputs": [],
   "source": [
    "import sys\n",
    "sys.path.append(\"../python\")"
   ]
  },
  {
   "cell_type": "code",
   "execution_count": null,
   "id": "87fd27da-f5c1-4ac1-999a-6fae2e0b3afe",
   "metadata": {},
   "outputs": [],
   "source": [
    "import numpy as np"
   ]
  },
  {
   "cell_type": "code",
   "execution_count": null,
   "id": "3e487ff1-fa67-4bec-a4d4-88a6ce973b14",
   "metadata": {},
   "outputs": [],
   "source": [
    "import torch\n",
    "import torchvision\n",
    "import torchkld"
   ]
  },
  {
   "cell_type": "code",
   "execution_count": null,
   "id": "6022e637-785a-4dad-a15e-7e1ae13872b7",
   "metadata": {},
   "outputs": [],
   "source": [
    "import mutinfo"
   ]
  },
  {
   "cell_type": "code",
   "execution_count": null,
   "id": "b4c265f9-3930-41e7-8d5c-6f1ec2abee26",
   "metadata": {},
   "outputs": [],
   "source": [
    "device = \"cuda:0\" if torch.cuda.is_available() else \"cpu\"\n",
    "#device = \"cpu\"\n",
    "print(\"Device: \" + device)\n",
    "print(f\"Devices count: {torch.cuda.device_count()}\")"
   ]
  },
  {
   "cell_type": "code",
   "execution_count": null,
   "id": "43237284-a85b-4f61-bea4-5c38e5c3ba34",
   "metadata": {},
   "outputs": [],
   "source": [
    "from tqdm import tqdm, trange"
   ]
  },
  {
   "cell_type": "code",
   "execution_count": null,
   "id": "146d855a-4c33-4c62-9625-6523f9441af1",
   "metadata": {},
   "outputs": [],
   "source": [
    "from misc.modules import *\n",
    "from misc.utils import *\n",
    "from misc.plots import *"
   ]
  },
  {
   "cell_type": "code",
   "execution_count": null,
   "id": "c38298fb-5baa-4eee-ac13-6804eca6b69e",
   "metadata": {},
   "outputs": [],
   "source": [
    "config = {}"
   ]
  },
  {
   "cell_type": "markdown",
   "id": "cbc3c574-93ee-421d-bd50-b0237c2cc46a",
   "metadata": {},
   "source": [
    "## Dataset"
   ]
  },
  {
   "cell_type": "markdown",
   "id": "3caf0b9f-3d8c-4dfb-9137-cc100f5e811d",
   "metadata": {},
   "source": [
    "Dataset and dataloader"
   ]
  },
  {
   "cell_type": "code",
   "execution_count": null,
   "id": "868b0b67-f4e7-49c8-bcc1-ce9eff218ae7",
   "metadata": {},
   "outputs": [],
   "source": [
    "from mutinfo.distributions.base import CorrelatedUniform\n",
    "\n",
    "config[\"mutual_information\"] = 3.0\n",
    "config[\"n_copies\"] = 1"
   ]
  },
  {
   "cell_type": "code",
   "execution_count": null,
   "id": "d317a7bf-f008-4cf4-9893-cad69848af85",
   "metadata": {},
   "outputs": [],
   "source": [
    "image_transform = torchvision.transforms.Compose([\n",
    "    torchvision.transforms.ToTensor(),\n",
    "    #torchvision.transforms.Normalize((0.4914, 0.4822, 0.4465), (0.2023, 0.1994, 0.2010)),\n",
    "])"
   ]
  },
  {
   "cell_type": "code",
   "execution_count": null,
   "id": "fc17bcf1-bd5e-42f7-a7b9-914ab78d377f",
   "metadata": {},
   "outputs": [],
   "source": [
    "config[\"dataset\"] = \"MNIST\"\n",
    "#config[\"dataset\"] = \"CIFAR10\"\n",
    "config[\"n_classes\"] = 10\n",
    "aggregate = lambda x_list: torch.cat(x_list, dim=1)\n",
    "\n",
    "train_dataset = getattr(torchvision.datasets, config[\"dataset\"])(root=\"./.cache\", download=True, transform=image_transform)\n",
    "test_dataset  = getattr(torchvision.datasets, config[\"dataset\"])(root=\"./.cache\", download=True, transform=image_transform, train=False)"
   ]
  },
  {
   "cell_type": "code",
   "execution_count": null,
   "id": "b49a4f56-289f-4a69-90bb-3a8782de996b",
   "metadata": {},
   "outputs": [],
   "source": [
    "config[\"batch_size\"] = 512\n",
    "\n",
    "train_dataloader = torch.utils.data.DataLoader(train_dataset, batch_size=config[\"batch_size\"], shuffle=True)\n",
    "test_dataloader  = torch.utils.data.DataLoader(test_dataset,  batch_size=config[\"batch_size\"], shuffle=False)"
   ]
  },
  {
   "cell_type": "markdown",
   "id": "ae29b44e-a9a8-4765-8197-30cc1554ba51",
   "metadata": {},
   "source": [
    "## Estimating MI"
   ]
  },
  {
   "cell_type": "markdown",
   "id": "43b813b1-a532-44ae-94d9-800a7d929360",
   "metadata": {},
   "source": [
    "Model"
   ]
  },
  {
   "cell_type": "code",
   "execution_count": null,
   "id": "d8a2e80b-0cb5-451e-99f1-4a16ab552740",
   "metadata": {},
   "outputs": [],
   "source": [
    "class MNIST_T_network(torchkld.mutual_information.MINE):\n",
    "    def __init__(self, X_channels: int=1, Y_channels: int=1) -> None:\n",
    "        super().__init__()\n",
    "        \n",
    "        self.conv2d_1 = torch.nn.Conv2d(X_channels + Y_channels, 64, 3, padding='same')\n",
    "        self.conv2d_2 = torch.nn.Conv2d(64, 128, 3, padding='same')\n",
    "        self.conv2d_3 = torch.nn.Conv2d(128, 128, 3, padding='same')\n",
    "\n",
    "        self.linear_1 = torch.nn.Linear(128*7*7, 128)\n",
    "        self.linear_2 = torch.nn.Linear(128, 1)\n",
    "\n",
    "        self.pooling = torch.nn.AvgPool2d(2)\n",
    "        self.activation = torch.nn.LeakyReLU()\n",
    "\n",
    "    def forward(self, x: torch.Tensor, y: torch.Tensor, marginalize: bool=False) -> torch.Tensor:\n",
    "        x, y = super().forward(x, y, marginalize)\n",
    "        \n",
    "        z = torch.cat([x, y], axis=1)\n",
    "\n",
    "        z = self.conv2d_1(z)\n",
    "        z = self.pooling(z)\n",
    "        z = self.activation(z)\n",
    "\n",
    "        z = self.conv2d_2(z)\n",
    "        z = self.pooling(z)\n",
    "        z = self.activation(z)\n",
    "\n",
    "        z = self.conv2d_3(z)\n",
    "        z = self.activation(z)\n",
    "\n",
    "        z = z.flatten(start_dim=1)\n",
    "        \n",
    "        z = self.linear_1(z)\n",
    "        z = self.activation(z)\n",
    "\n",
    "        z = self.linear_2(z)\n",
    "\n",
    "        return z"
   ]
  },
  {
   "cell_type": "code",
   "execution_count": null,
   "id": "4b319980-e6c5-4c4c-a4cb-48643d2636b8",
   "metadata": {},
   "outputs": [],
   "source": [
    "model = MNIST_T_network(config[\"n_copies\"], config[\"n_copies\"]).to(device)\n",
    "total_parameters = sum(parameter.numel() for parameter in model.parameters())\n",
    "print(f\"Total parameters: {total_parameters}\")"
   ]
  },
  {
   "cell_type": "code",
   "execution_count": null,
   "id": "fe5aa875-4931-4b8a-8a0a-3aad486bda1a",
   "metadata": {},
   "outputs": [],
   "source": [
    "config[\"n_parameters\"] = total_parameters"
   ]
  },
  {
   "cell_type": "markdown",
   "id": "bbc680af-62d8-4c9e-83c3-92379950ff1c",
   "metadata": {},
   "source": [
    "Loss"
   ]
  },
  {
   "cell_type": "code",
   "execution_count": null,
   "id": "772fa747-01e2-427a-af60-38fd309daeb9",
   "metadata": {},
   "outputs": [],
   "source": [
    "# Loss.\n",
    "config[\"biased\"] = False\n",
    "config[\"ema_multiplier\"] = 1.0e-2\n",
    "config[\"marginalize\"] = \"permute\" # \"permute\", \"product\"\n",
    "\n",
    "losses = {\n",
    "    \"DonskerVaradhan\": torchkld.loss.DonskerVaradhanLoss(biased=config[\"biased\"], ema_multiplier=config[\"ema_multiplier\"]),\n",
    "    \"NWJ\": torchkld.loss.NWJLoss(),\n",
    "    \"Nishiyama\": torchkld.loss.NishiyamaLoss(),\n",
    "    \"InfoNCE\": torchkld.loss.InfoNCELoss(),\n",
    "}\n",
    "\n",
    "config[\"loss_name\"] = \"DonskerVaradhan\"\n",
    "loss = losses[config[\"loss_name\"]]"
   ]
  },
  {
   "cell_type": "markdown",
   "id": "486b1ca3-f0cf-4188-825c-7de35364ec9f",
   "metadata": {},
   "source": [
    "Optimizer"
   ]
  },
  {
   "cell_type": "code",
   "execution_count": null,
   "id": "24859d48-3d76-41a5-8c1e-27f6b11c638a",
   "metadata": {},
   "outputs": [],
   "source": [
    "config[\"learning_rate\"] = 1.0e-3\n",
    "optimizer = torch.optim.Adam(model.parameters(), lr=config[\"learning_rate\"])"
   ]
  },
  {
   "cell_type": "markdown",
   "id": "594148f1-d379-4574-a65a-3ec8607fc220",
   "metadata": {},
   "source": [
    "Training"
   ]
  },
  {
   "cell_type": "code",
   "execution_count": null,
   "id": "4e59ce4e-2751-49ad-a784-5d81e1a1135b",
   "metadata": {},
   "outputs": [],
   "source": [
    "import matplotlib\n",
    "from matplotlib import pyplot as plt"
   ]
  },
  {
   "cell_type": "code",
   "execution_count": null,
   "id": "0249b382-75ff-48da-858e-837231c5dcc3",
   "metadata": {},
   "outputs": [],
   "source": [
    "# Total number of epochs.\n",
    "config[\"n_epochs\"] = 500\n",
    "\n",
    "# Number of epochs used to average the estimate.\n",
    "config[\"average_epochs\"] = 20"
   ]
  },
  {
   "cell_type": "code",
   "execution_count": null,
   "id": "194c9372-af54-44a2-ad54-8235e5924908",
   "metadata": {},
   "outputs": [],
   "source": [
    "from mutinfo.distributions.base import CorrelatedUniform\n",
    "\n",
    "def apply_noise(\n",
    "    samples,\n",
    "    labels,\n",
    "    governing_random_variable=CorrelatedUniform(\n",
    "        mutual_information=config[\"mutual_information\"],\n",
    "        X_dim=config[\"n_copies\"],\n",
    "        Y_dim=config[\"n_copies\"],\n",
    "        randomize_interactions=False,\n",
    "        shuffle_interactions=False,\n",
    "    )\n",
    "):\n",
    "    batch_size = samples.shape[0]\n",
    "    device = samples.device\n",
    "    \n",
    "    parameters_1, parameters_2 = governing_random_variable.rvs(batch_size)\n",
    "    noise_1 = 1.0 - torch.tensor(parameters_1, dtype=torch.float32, device=device)[...,None,None]# * torch.rand(samples.shape, device=device)\n",
    "    noise_2 = 1.0 - torch.tensor(parameters_2, dtype=torch.float32, device=device)[...,None,None]# * torch.rand(samples.shape, device=device)\n",
    "\n",
    "    return samples * noise_1, samples[torch.randperm(batch_size, device=device)] * noise_2"
   ]
  },
  {
   "cell_type": "code",
   "execution_count": null,
   "id": "cd99a2a2-389d-499d-800b-eef120ce0202",
   "metadata": {
    "tags": []
   },
   "outputs": [],
   "source": [
    "from collections import defaultdict\n",
    "from IPython.display import clear_output\n",
    "from tqdm import trange\n",
    "\n",
    "history = defaultdict(list)\n",
    "for epoch in trange(1, config[\"n_epochs\"] + 1, mininterval=1):    \n",
    "    # Training.\n",
    "    for index, batch in enumerate(train_dataloader):\n",
    "        x, y = batch\n",
    "        batch_size = x.shape[0]\n",
    "\n",
    "        x, y = x.to(device), y.to(device)\n",
    "        \n",
    "        x_1, x_2 = apply_noise(x, y)\n",
    "        \n",
    "        optimizer.zero_grad()\n",
    "        \n",
    "        T_joined   = model(x_1.to(device), x_2.to(device))\n",
    "        T_marginal = model(x_1.to(device), x_2.to(device), marginalize=config[\"marginalize\"])\n",
    "        _loss = loss(T_joined, T_marginal)\n",
    "        _loss.backward()\n",
    "        \n",
    "        optimizer.step()\n",
    "\n",
    "    history[\"train_mutual_information\"].append(\n",
    "        model.get_mutual_information(\n",
    "            train_dataloader,\n",
    "            loss,\n",
    "            device,\n",
    "            marginalize=config[\"marginalize\"],\n",
    "            transform=apply_noise\n",
    "        )\n",
    "    )\n",
    "    history[\"test_mutual_information\"].append(\n",
    "        model.get_mutual_information(\n",
    "            test_dataloader,\n",
    "            loss,\n",
    "            device,\n",
    "            marginalize=config[\"marginalize\"],\n",
    "            transform=apply_noise\n",
    "        )\n",
    "    )\n",
    "\n",
    "    if epoch % 5 == 0:        \n",
    "        clear_output(wait=True)\n",
    "        plot_estimated_MI_trainig(config[\"mutual_information\"], np.arange(1, epoch+1), history[\"train_mutual_information\"])\n",
    "        plot_estimated_MI_trainig(config[\"mutual_information\"], np.arange(1, epoch+1), history[\"test_mutual_information\"])\n",
    "        print(f\"Current estimate: {history['test_mutual_information'][-1]:.3f}\")\n",
    "        print(f\"Running median: {np.median(history['test_mutual_information'][-config['average_epochs']:]):.3f}\")"
   ]
  },
  {
   "cell_type": "markdown",
   "id": "98a10f0c-de29-492a-8e1b-7dc0735a0701",
   "metadata": {},
   "source": [
    "### Saving the results"
   ]
  },
  {
   "cell_type": "code",
   "execution_count": null,
   "id": "8e6b36a8-9648-4826-bc87-4496c1505dc9",
   "metadata": {},
   "outputs": [],
   "source": [
    "config"
   ]
  },
  {
   "cell_type": "code",
   "execution_count": null,
   "id": "bdbdfeb5-e1e4-4c62-86f4-32eff024b8ff",
   "metadata": {},
   "outputs": [],
   "source": [
    "from datetime import datetime\n",
    "\n",
    "experiment_name = f\"{config['dataset']}_{config['n_copies']}_{config['mutual_information']:.1f}__{datetime.now().strftime('%d-%b-%Y_%H:%M:%S')}\"\n",
    "print(experiment_name)"
   ]
  },
  {
   "cell_type": "code",
   "execution_count": null,
   "id": "6d07817d-5082-4718-8b13-7f4a0194095d",
   "metadata": {},
   "outputs": [],
   "source": [
    "import os\n",
    "from pathlib import Path\n",
    "\n",
    "data_path = Path(os.path.abspath(os.path.join(os.path.abspath(os.getcwd()), \"../../data\")))\n",
    "experiment_path = data_path / f\"{config['dataset']}\" / config['loss_name'] / experiment_name"
   ]
  },
  {
   "cell_type": "code",
   "execution_count": null,
   "id": "8a237646-74b9-448b-a215-955541eedc06",
   "metadata": {},
   "outputs": [],
   "source": [
    "save_results(history, config, experiment_path, average_epochs=config['average_epochs'])"
   ]
  },
  {
   "cell_type": "code",
   "execution_count": null,
   "id": "c5d604cc-8f62-4b26-90b4-412fd68a88d0",
   "metadata": {},
   "outputs": [],
   "source": []
  }
 ],
 "metadata": {
  "kernelspec": {
   "display_name": "Python 3 (ipykernel)",
   "language": "python",
   "name": "python3"
  },
  "language_info": {
   "codemirror_mode": {
    "name": "ipython",
    "version": 3
   },
   "file_extension": ".py",
   "mimetype": "text/x-python",
   "name": "python",
   "nbconvert_exporter": "python",
   "pygments_lexer": "ipython3",
   "version": "3.10.13"
  }
 },
 "nbformat": 4,
 "nbformat_minor": 5
}
